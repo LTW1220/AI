{
 "cells": [
  {
   "cell_type": "markdown",
   "metadata": {
    "colab_type": "text",
    "id": "view-in-github"
   },
   "source": [
    "<a href=\"https://colab.research.google.com/github/rajaonsonella/crosstalk-q2-2025/blob/main/notebooks/1_0_Molecule_features.ipynb\" target=\"_parent\"><img src=\"https://colab.research.google.com/assets/colab-badge.svg\" alt=\"Open In Colab\"/></a>"
   ]
  },
  {
   "cell_type": "markdown",
   "metadata": {
    "id": "-ufBrXi0YOR9"
   },
   "source": [
    "# Molecule features"
   ]
  },
  {
   "cell_type": "markdown",
   "metadata": {
    "id": "3doiXUJ_Rk4S"
   },
   "source": [
    "This notebook explores molecular features and representations using Delaney’s solubility dataset. We’ll use cheminformatics tools to compute molecular descriptors and fingerprints, visualize chemical space with dimensionality reduction (PCA, UMAP), and identify structural clusters. The workflow demonstrates how to transform molecular structures into numerical features suitable for machine learning and data analysis in drug discovery."
   ]
  },
  {
   "cell_type": "markdown",
   "metadata": {
    "id": "oGAxdbic1SWI"
   },
   "source": [
    "### Installation of Required Libraries"
   ]
  },
  {
   "cell_type": "code",
   "execution_count": null,
   "metadata": {
    "colab": {
     "base_uri": "https://localhost:8080/"
    },
    "id": "av-htVAI6zNS",
    "outputId": "fa823573-c215-4250-a077-909239ad6f1a"
   },
   "outputs": [],
   "source": [
    "!pip install rdkit\n",
    "!pip install umap-learn\n",
    "!pip install hdbscan"
   ]
  },
  {
   "cell_type": "markdown",
   "metadata": {
    "id": "8cSWX16f1X5N"
   },
   "source": [
    "### Importing Libraries and Modules"
   ]
  },
  {
   "cell_type": "code",
   "execution_count": null,
   "metadata": {
    "colab": {
     "base_uri": "https://localhost:8080/"
    },
    "id": "lv35_pkG6lhk",
    "outputId": "c2c1c2cc-f978-4cf6-9843-9c763d45f56e"
   },
   "outputs": [],
   "source": [
    "import io\n",
    "import random\n",
    "import itertools\n",
    "# tqdm for a progress bar\n",
    "from tqdm.auto import tqdm\n",
    "# scientific python stack\n",
    "import numpy as np\n",
    "import scipy as sp\n",
    "import pandas as pd\n",
    "import matplotlib.pyplot as plt\n",
    "import matplotlib.cm as cm\n",
    "\n",
    "import seaborn as sns\n",
    "import scipy.spatial.distance as sp_dist\n",
    "import altair as alt\n",
    "# ML libraries\n",
    "import sklearn\n",
    "import sklearn.decomposition\n",
    "import umap\n",
    "import hdbscan\n",
    "# Chemo-informatics\n",
    "import rdkit\n",
    "import rdkit.Chem.Descriptors\n",
    "from rdkit import Chem\n",
    "from rdkit.Chem import AllChem\n",
    "from rdkit.Chem import Draw\n",
    "from rdkit.Chem.Draw.MolDrawing import MolDrawing\n",
    "from rdkit.Chem.Draw import IPythonConsole\n",
    "from rdkit.Chem import Descriptors\n",
    "from rdkit.Chem import rdFingerprintGenerator\n",
    "# Jupyter/IPython libraries\n",
    "import IPython.display as ipy_display\n",
    "from IPython.display import Image, display\n",
    "import base64\n",
    "import PIL\n",
    "\n",
    "def html_header(astr, n):\n",
    "    display(ipy_display.HTML(f'<h{n}>{astr}</h{n}>'))\n",
    "\n",
    "for mod in [np, sp, rdkit]:\n",
    "    print(f'{mod.__name__:20s}:{mod.__version__}')"
   ]
  },
  {
   "cell_type": "markdown",
   "metadata": {
    "id": "ujv-Tdv06mV-"
   },
   "source": [
    "# Sample dataset, solubility (logP) 💧\n",
    "\n",
    "Datatset source: Delaney's solubility dataset from ESOL:  Estimating Aqueous Solubility Directly from Molecular Structure\n",
    "(https://pubs.acs.org/doi/10.1021/ci034243x)\n",
    "\n",
    "We'll be using a well-known dataset for predicting the solubility of molecules. This dataset is a classic in cheminformatics and is readily available. It is a regression task.\n",
    "\n",
    "The task is: Given a molecule, predict its aqueous solubility (logP).\n",
    "\n",
    "### Let's download the dataset with wget\n"
   ]
  },
  {
   "cell_type": "code",
   "execution_count": null,
   "metadata": {
    "colab": {
     "base_uri": "https://localhost:8080/"
    },
    "id": "IxePV5Xe6qs-",
    "outputId": "511610d2-8b6d-4514-eef9-eee9df4867bd"
   },
   "outputs": [],
   "source": [
    "!wget -nc https://raw.githubusercontent.com/deepchem/deepchem/master/datasets/delaney-processed.csv"
   ]
  },
  {
   "cell_type": "code",
   "execution_count": null,
   "metadata": {
    "colab": {
     "base_uri": "https://localhost:8080/",
     "height": 224
    },
    "id": "31ubkqv57Ft9",
    "outputId": "61e073fc-2684-4fb9-f114-69737396aabf"
   },
   "outputs": [],
   "source": [
    "df = pd.read_csv('delaney-processed.csv')\n",
    "target = 'measured log solubility in mols per litre'\n",
    "print(df.shape)\n",
    "df.head()"
   ]
  },
  {
   "cell_type": "markdown",
   "metadata": {
    "id": "o8XGMsFb1z2U"
   },
   "source": [
    "# Molecule features\n",
    "This section demonstrates how to access and visualize information about a single, randomly-selected molecule from the dataset."
   ]
  },
  {
   "cell_type": "markdown",
   "metadata": {
    "id": "BB3KQ5dQ7phO"
   },
   "source": [
    "Let's pick a random row"
   ]
  },
  {
   "cell_type": "code",
   "execution_count": null,
   "metadata": {
    "colab": {
     "base_uri": "https://localhost:8080/",
     "height": 548
    },
    "id": "Y-LfkDUp7p3G",
    "outputId": "543b3f3a-9bff-4971-d9f3-50cd0ae2c3be"
   },
   "outputs": [],
   "source": [
    "row = df.sample().iloc[0]\n",
    "ipy_display.display(row)\n",
    "smi = str(row['smiles'])\n",
    "mol = Chem.MolFromSmiles(smi)\n",
    "mol"
   ]
  },
  {
   "cell_type": "markdown",
   "metadata": {
    "id": "Yb-fjXOk-wrU"
   },
   "source": [
    "And we can convert them from molecules to smiles!"
   ]
  },
  {
   "cell_type": "code",
   "execution_count": null,
   "metadata": {
    "colab": {
     "base_uri": "https://localhost:8080/"
    },
    "id": "ot6UJGIX7qWg",
    "outputId": "1cafaa94-83e4-4348-d478-6d5d517b40c0"
   },
   "outputs": [],
   "source": [
    "new_smi = Chem.MolToSmiles(mol)\n",
    "print(smi)\n",
    "print(new_smi)"
   ]
  },
  {
   "cell_type": "markdown",
   "metadata": {
    "id": "LdvhP0LK-z8s"
   },
   "source": [
    "Let's use apply to create a new column of molecules.\n",
    "\n",
    "This is a key step for working with RDKit.  We're going to create a new column called 'mol' in our DataFrame.  This column will store the RDKit molecule objects, making it easy to apply RDKit functions to all molecules in the dataset."
   ]
  },
  {
   "cell_type": "code",
   "execution_count": null,
   "metadata": {
    "colab": {
     "base_uri": "https://localhost:8080/",
     "height": 206
    },
    "id": "c2eEHUK8-0EV",
    "outputId": "57256b45-fbcc-4479-b51b-c932cd22e4c6"
   },
   "outputs": [],
   "source": [
    "df['mol'] = df['smiles'].apply(Chem.MolFromSmiles)\n",
    "df[['mol']].head()"
   ]
  },
  {
   "cell_type": "markdown",
   "metadata": {
    "id": "XJZ9FQ2e-_Uc"
   },
   "source": [
    "## How do we convert molecules into numbers?\n",
    "\n",
    "Now we'll start calculating numerical descriptors from our molecule objects.  These descriptors quantify various aspects of the molecular structure and are used as input features for machine learning models.\n",
    "\n",
    "Calculates the molecular weight of the molecule."
   ]
  },
  {
   "cell_type": "code",
   "execution_count": null,
   "metadata": {
    "colab": {
     "base_uri": "https://localhost:8080/"
    },
    "id": "qa_th7WL_S73",
    "outputId": "af2025b6-b210-4e16-aab8-51a9c8e3d72e"
   },
   "outputs": [],
   "source": [
    "mol_weight = Descriptors.MolWt(mol)\n",
    "mol_weight"
   ]
  },
  {
   "cell_type": "markdown",
   "metadata": {
    "id": "E_1AyoUz2HLX"
   },
   "source": [
    "Calculates the estimated octanol-water partition coefficient (logP), a measure of lipophilicity (how well the molecule dissolves in fats).  This is a common descriptor used in drug discovery."
   ]
  },
  {
   "cell_type": "code",
   "execution_count": null,
   "metadata": {
    "colab": {
     "base_uri": "https://localhost:8080/"
    },
    "id": "IscSwhfq_s6i",
    "outputId": "f48f2613-d20f-46b8-e701-e1a135c3e0e9"
   },
   "outputs": [],
   "source": [
    "crippen_logp = Descriptors.MolLogP(mol)\n",
    "crippen_logp"
   ]
  },
  {
   "cell_type": "markdown",
   "metadata": {
    "id": "Xt3gomPK_vrQ"
   },
   "source": [
    "## Molecular fingerprints\n",
    "\n",
    "Molecular fingerprints are computational representations of molecules that encode chemical features of a molecule in the form of a binary digit (1 if present, 0 if not) or integer (how many are present). There are multiple ways of designing fingerprints.\n",
    "\n",
    "\n",
    "## Molecular ACCess System (MACCS) fingerprints\n",
    "\n",
    "Also termed MACCS structural keys, they consist of 166 predefined structural fragments. Each position queries the presence or absence of one particular structural fragment or key. The individual keys were empirically defined by medicinal chemists and are simple to use and interpret [1]\n",
    "\n",
    "![maccs_fp.png](data:image/png;base64,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)\n",
    "\n",
    "\n",
    "You can find the exact definitions of them here:\n",
    "\n",
    "<https://github.com/rdkit/rdkit/blob/master/rdkit/Chem/MACCSkeys.py>\n",
    "\n",
    "For example rule 145 defines a 6-member ring:\n",
    "\n",
    "```\n",
    "  145: ('*1~*~*~*~*~*~1', 1),  # 6M ring > 1\n",
    "```\n",
    "\n",
    "\n",
    "## Morgan fingerprints\n",
    "\n",
    "They are based on the Morgan algorithm. The bits correspond to the circular environments of each atom in a molecule. The number of neighboring bonds and atoms to consider is set by the radius. Also the length of the bit string can be defined, a longer bit string will be modded to the desired length. Therefore, the Morgan fingerprint is not limited to a certain number of bits.\n",
    "\n",
    "## Extended connectivity fingerprints (ECFP)\n",
    "\n",
    " are also commonly used fingerprints that are derived using a variant of the Morgan algorithm, see [J. Chem. Inf. Model. (2010), 50,742-754](https://pubs.acs.org/doi/full/10.1021/ci100050t) for further information.\n",
    "\n",
    "\n",
    "[1]: [Talktorial 004 Volkamer](https://projects.volkamerlab.org/teachopencadd/talktorials/T004_compound_similarity.html)\n",
    "\n",
    "[2]: [Chembook ECFP Blogpost](https://chemicbook.com/2021/03/25/a-beginners-guide-for-understanding-extended-connectivity-fingerprints.html)\n",
    "\n",
    "\n",
    "\n",
    "Initializing the Morgan Fingerprint Generator"
   ]
  },
  {
   "cell_type": "code",
   "execution_count": null,
   "metadata": {
    "colab": {
     "base_uri": "https://localhost:8080/"
    },
    "id": "LDYHUwpd_vxt",
    "outputId": "30f75ad0-12fa-4903-bd42-1bc6843d4e5f"
   },
   "outputs": [],
   "source": [
    "# initialize Morgan Fingerprint generator\n",
    "mfpgen = rdFingerprintGenerator.GetMorganGenerator(radius=2,fpSize=2048)\n",
    "\n",
    "# get the fingerprint of our RDKit mol object\n",
    "fp = mfpgen.GetFingerprint(mol)\n",
    "\n",
    "# Notice fp is a numpy array yet!!\n",
    "print(type(fp))\n",
    "ecfp4 = np.array(fp) # fp.ToList() also gives us a list.\n",
    "\n",
    "print(ecfp4.shape)\n",
    "print(ecfp4)"
   ]
  },
  {
   "cell_type": "markdown",
   "metadata": {
    "id": "0mmFiJWb3PYc"
   },
   "source": [
    "## How do we build a FP?\n",
    "![MorganFP_algorithm.jpeg](data:image/jpeg;base64,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)"
   ]
  },
  {
   "cell_type": "markdown",
   "metadata": {
    "id": "UDh6_2FX4DYE"
   },
   "source": [
    "This code shows how to generate a fingerprint for a single molecule (`mol`, which we defined earlier) and inspect the result."
   ]
  },
  {
   "cell_type": "code",
   "execution_count": null,
   "metadata": {
    "colab": {
     "base_uri": "https://localhost:8080/"
    },
    "id": "RpQtiguhAAZL",
    "outputId": "9629dcef-c788-4679-e709-ea855dc177e0"
   },
   "outputs": [],
   "source": [
    "mols = df['mol'].tolist()\n",
    "fps = np.stack([mfpgen.GetFingerprint(m) for m in mols])\n",
    "print(fps.shape)"
   ]
  },
  {
   "cell_type": "markdown",
   "metadata": {
    "id": "FBtAkZ9S4Y8G"
   },
   "source": [
    "This code demonstrates how to calculate the Jaccard distance between two randomly selected molecules using their fingerprints. The Jaccard distance is a measure of dissimilarity between sets (in this case, sets of fingerprint bits)."
   ]
  },
  {
   "cell_type": "code",
   "execution_count": null,
   "metadata": {
    "colab": {
     "base_uri": "https://localhost:8080/",
     "height": 268
    },
    "id": "bg9vWB-6BUTc",
    "outputId": "26f579e7-4870-4168-c0c5-efd924b51310"
   },
   "outputs": [],
   "source": [
    "n = fps.shape[0]\n",
    "index1, index2 = random.sample(range(n), 2)\n",
    "mols_to_display = [mols[index1], mols[index2]]\n",
    "jaccard_dist = sp_dist.jaccard(fps[index1], fps[index2])\n",
    "img = Draw.MolsToGridImage(mols_to_display, molsPerRow=2, subImgSize=(200, 200),\n",
    "                      legends=[f\"Molecule {index1}\", f\"Molecule {index2}\"], useSVG=True)\n",
    "display(img)\n",
    "html_header(f'Distance: {jaccard_dist:.4f}', 2)\n"
   ]
  },
  {
   "cell_type": "markdown",
   "metadata": {
    "id": "MKRlpC6n5LGd"
   },
   "source": [
    "### Calculating and Visualizing Pairwise Jaccard Distances\n",
    "\n",
    "This code calculates the Jaccard distance between *all* pairs of molecules in the dataset and visualizes the results as a heatmap and a distribution plot. This gives us a global view of the structural similarity within the dataset."
   ]
  },
  {
   "cell_type": "code",
   "execution_count": null,
   "metadata": {
    "colab": {
     "base_uri": "https://localhost:8080/",
     "height": 1000,
     "referenced_widgets": [
      "a6d866f6abf541199fbf9c8fb73c5d8b",
      "554c85a60d5046ef9221dda4e0823d4f",
      "fc82c9e82bf54ad4a54cbe37fd7fabfb",
      "9e88d20043914ebf8addcfcc4d7d92d7",
      "fc0fdae50f68495db2c9a89cb0637034",
      "52e26a053680428cabdc3917811e802f",
      "29e2e4dc381a489cb42b67e434c2e3e1",
      "acb6af1cae1f4a2a97f175bced4ec692",
      "ad4cb1889eb048788e3e0a16c3434287",
      "8f882b5a4a9a46b08dd01cbbdb27c9f1",
      "849a0359fe064a628aa7da8b6bd0be5f"
     ]
    },
    "id": "0S0sxRMBCHG0",
    "outputId": "36a24e04-61a0-4289-c303-5773507551c5"
   },
   "outputs": [],
   "source": [
    "distance_matrix = np.zeros((n, n))\n",
    "pbar = tqdm(itertools.combinations(range(n), 2), total=n * (n - 1) // 2)\n",
    "for (i, j) in pbar:\n",
    "    jaccard_dist = sp_dist.jaccard(fps[i], fps[j])\n",
    "    distance_matrix[i, j] = distance_matrix[j, i] = jaccard_dist\n",
    "plt.figure(figsize=(8, 7))\n",
    "sns.heatmap(distance_matrix, cmap=\"viridis\", square=True, xticklabels=False, yticklabels=False)\n",
    "plt.title(\"Pairwise Jaccard Distance Matrix\")\n",
    "plt.show()\n",
    "distances = distance_matrix[np.triu_indices_from(distance_matrix, k=1)]\n",
    "plt.figure(figsize=(8, 5))\n",
    "sns.histplot(distances, bins=30, kde=True)\n",
    "plt.title(\"Distribution of Pairwise Jaccard Distances\")\n",
    "plt.show()"
   ]
  },
  {
   "cell_type": "markdown",
   "metadata": {
    "id": "9epq1hcV5RcX"
   },
   "source": [
    "## PCA & UMAP visualization\n",
    "\n",
    "We now have high-dimensional fingerprint data (2048 dimensions).  It's difficult to visualize data in such high dimensions.  Here, we'll use two dimensionality reduction techniques, PCA and UMAP, to project the data down to two dimensions for visualization.\n",
    "\n",
    "\n",
    "A great resource to check out how to use UMAP responsably:\n",
    "* https://umap-learn.readthedocs.io/en/latest/plotting.html\n",
    "* https://pair-code.github.io/understanding-umap/\n"
   ]
  },
  {
   "cell_type": "code",
   "execution_count": null,
   "metadata": {
    "colab": {
     "base_uri": "https://localhost:8080/",
     "height": 1000
    },
    "id": "Du95Lbp-C1J4",
    "outputId": "992d1b53-4886-421d-c934-d917987a2e55"
   },
   "outputs": [],
   "source": [
    "pca_pipeline = sklearn.pipeline.Pipeline([\n",
    "    ('scaler', sklearn.preprocessing.StandardScaler()),\n",
    "     ('pca', sklearn.decomposition.PCA(n_components=2))])\n",
    "pca_components = pca_pipeline.fit_transform(fps)\n",
    "plt.figure(figsize=(8, 7))\n",
    "plt.scatter(pca_components[:, 0], pca_components[:, 1], s=1)\n",
    "plt.title('PCA of Molecular Fingerprints (Normalized)')\n",
    "plt.xlabel('PCA Component 1')\n",
    "plt.ylabel('PCA Component 2')\n",
    "plt.show()\n",
    "\n",
    "umap_pipeline = sklearn.pipeline.Pipeline([\n",
    "     ('umap', umap.UMAP(n_components=2, metric='jaccard',\n",
    "                        n_neighbors=20,\n",
    "                        min_dist=0.1))])\n",
    "umap_components = umap_pipeline.fit_transform(fps)\n",
    "plt.figure(figsize=(8, 7))\n",
    "plt.scatter(umap_components[:, 0], umap_components[:, 1], s=1)\n",
    "plt.title('UMAP of Molecular Fingerprints (Jaccard)')\n",
    "plt.xlabel('UMAP Component 1')\n",
    "plt.ylabel('UMAP Component 2')\n",
    "plt.show()"
   ]
  },
  {
   "cell_type": "markdown",
   "metadata": {
    "id": "L3IPiodI5ppP"
   },
   "source": [
    "## Clustering with HDBSCAN\n",
    "\n",
    "Now we'll use HDBSCAN (Hierarchical Density-Based Spatial Clustering of Applications with Noise) to find clusters of molecules with similar fingerprints. HDBSCAN is a density-based clustering algorithm, meaning it identifies clusters as areas of high density separated by areas of low density.  It's particularly useful for finding clusters of varying shapes and sizes and doesn't require specifying the number of clusters beforehand.\n",
    "\n",
    "* https://hdbscan.readthedocs.io/en/latest/index.html\n",
    "* https://pberba.github.io/stats/2020/01/17/hdbscan/"
   ]
  },
  {
   "cell_type": "code",
   "execution_count": null,
   "metadata": {
    "colab": {
     "base_uri": "https://localhost:8080/",
     "height": 841
    },
    "id": "lDMxo6CLHXCG",
    "outputId": "6b6e9061-a96a-4c9c-cb75-70c4d5c649e0"
   },
   "outputs": [],
   "source": [
    "hdbscan_clusterer = hdbscan.HDBSCAN(\n",
    "                                    min_cluster_size=13)\n",
    "umap_pipeline = sklearn.pipeline.Pipeline([\n",
    "    ('umap',  umap.UMAP(n_components=2, metric='jaccard',\n",
    "                        n_neighbors=20,\n",
    "                        min_dist=0.1))])\n",
    "umap_components = umap_pipeline.fit_transform(fps)\n",
    "clusters = hdbscan_clusterer.fit_predict(umap_components)\n",
    "\n",
    "unique_clusters = np.unique(clusters)\n",
    "num_clusters = len(unique_clusters[unique_clusters != -1]) # Exclude noise cluster -1\n",
    "html_header(f\"Number of clusters found by HDBSCAN: {num_clusters}\",1)\n",
    "\n",
    "plt.figure(figsize=(8, 7))\n",
    "scatter = plt.scatter(umap_components[:, 0], umap_components[:, 1], c=clusters, cmap='Set3', s=5)\n",
    "plt.title('UMAP of Molecular Fingerprints Colored by HDBSCAN Clusters')\n",
    "plt.xlabel('UMAP Component 1')\n",
    "plt.ylabel('UMAP Component 2')\n",
    "\n",
    "colorbar = plt.colorbar(scatter, ticks=unique_clusters)\n",
    "colorbar.set_label('Cluster')\n",
    "colorbar.ax.set_yticklabels([int(c) if c != -1 else 'Noise' for c in unique_clusters]) # Ensure integer labels\n",
    "\n",
    "plt.show()"
   ]
  },
  {
   "cell_type": "markdown",
   "metadata": {
    "id": "5qyyffyD_tfl"
   },
   "source": [
    "# Now let's add the labels to the mix"
   ]
  },
  {
   "cell_type": "code",
   "execution_count": null,
   "metadata": {
    "colab": {
     "base_uri": "https://localhost:8080/",
     "height": 544
    },
    "id": "dZ4bsuDh7Mt0",
    "outputId": "9b8745e1-ac3a-4f94-e9eb-654346c312d9"
   },
   "outputs": [],
   "source": [
    "y = df[target].values.reshape(-1,1)\n",
    "print(y.shape)\n",
    "sns.displot(y)\n",
    "plt.xlabel(target)\n",
    "plt.show()"
   ]
  },
  {
   "cell_type": "markdown",
   "metadata": {
    "id": "M6-vEU5o6f6H"
   },
   "source": [
    "This code repeats the UMAP visualization, but this time, the points are colored by their *solubility* values (instead of cluster assignments).  This allows us to see if there's a relationship between the UMAP projection and the target variable."
   ]
  },
  {
   "cell_type": "code",
   "execution_count": null,
   "metadata": {
    "colab": {
     "base_uri": "https://localhost:8080/",
     "height": 712
    },
    "id": "EbCsv9J47G41",
    "outputId": "aafd2e4b-0900-45d2-ffba-77c9a0f6a4ab"
   },
   "outputs": [],
   "source": [
    "umap_pipeline = sklearn.pipeline.Pipeline([\n",
    "     ('umap', umap.UMAP(n_components=2, metric='jaccard',\n",
    "                        n_neighbors=20,\n",
    "                        min_dist=0.1))])\n",
    "umap_components = umap_pipeline.fit_transform(fps)\n",
    "plt.figure(figsize=(8, 7))\n",
    "plt.scatter(umap_components[:, 0], umap_components[:, 1],  c=y,\n",
    "            cmap='viridis', s=5)\n",
    "plt.title('UMAP of Molecular Fingerprints (Jaccard)')\n",
    "plt.xlabel('UMAP Component 1')\n",
    "plt.ylabel('UMAP Component 2')\n",
    "plt.show()"
   ]
  },
  {
   "cell_type": "markdown",
   "metadata": {
    "id": "DkYpSbH56khP"
   },
   "source": [
    "# Interactive Visualization with Altair\n",
    "\n",
    "This section uses the Altair library to create an interactive visualization.  The visualization will show the UMAP projection, and when you hover over a point, it will display the 2D structure of the corresponding molecule.\n"
   ]
  },
  {
   "cell_type": "code",
   "execution_count": null,
   "metadata": {
    "colab": {
     "base_uri": "https://localhost:8080/",
     "height": 473
    },
    "id": "rC3VPb7zM32f",
    "outputId": "0df4e138-56ce-453f-e5be-54134522fdbd"
   },
   "outputs": [],
   "source": [
    "\n",
    "# Round-trip encode image to base64, see if PIL reads base64 and produces same image.\n",
    "def encode_image_as_base64(img):\n",
    "  \"\"\"Encode image to base64 strings, useful to embed images in HTML/js.\"\"\"\n",
    "  buffer = io.BytesIO()\n",
    "  img.save(buffer,format=\"PNG\")\n",
    "  encoded_string = \"data:image/png;base64,\"+base64.b64encode(buffer.getvalue()).decode()\n",
    "  return encoded_string\n",
    "\n",
    "def encode_mols_as_base64(mols, img_size:int=128):\n",
    "  \"\"\"Encode molecule images as base64 strings, useful to embed images.\"\"\"\n",
    "  img_list = [Draw.MolToImage(m, size=(img_size, img_size)) for m in mols]\n",
    "  return [encode_image_as_base64(img) for img in img_list]\n",
    "\n",
    "\n",
    "IMG_SIZE = 128\n",
    "img_col = 'img2'\n",
    "\n",
    "vis_df = pd.DataFrame({\n",
    "    \"x\": umap_components[:, 0],\n",
    "    \"y\": umap_components[:, 1],\n",
    "     'logP': y.flatten(),\n",
    "    'SMILES': df['smiles'],\n",
    "    'molecule_index': range(len(umap_components))})\n",
    "vis_df[img_col] = encode_mols_as_base64(mols, IMG_SIZE)\n",
    "\n",
    "mouseover = alt.selection_single(on=\"mouseover\", nearest=True, fields=['x', 'y'], empty=\"none\")\n",
    "\n",
    "base = alt.Chart(vis_df).mark_circle(size=6).encode(\n",
    "    x='x',\n",
    "    y='y',\n",
    "    color=alt.Color('logP:Q', scale=alt.Scale(scheme='viridis')),  # Color by logP\n",
    "    tooltip=['molecule_index', 'SMILES', 'logP'] # Add tooltips!\n",
    ").add_selection(mouseover)\n",
    "\n",
    "img = base.mark_image().encode(\n",
    "    x=alt.X('x', axis=None),\n",
    "    y=alt.Y('y', axis=None),\n",
    "    url=img_col).properties(width=IMG_SIZE, height=IMG_SIZE)\n",
    "img = img.transform_filter(mouseover)\n",
    "combined_chart = base.interactive() | img\n",
    "combined_chart"
   ]
  },
  {
   "cell_type": "code",
   "execution_count": null,
   "metadata": {
    "id": "3hDCFmriZHS8"
   },
   "outputs": [],
   "source": []
  }
 ],
 "metadata": {
  "colab": {
   "include_colab_link": true,
   "provenance": []
  },
  "kernelspec": {
   "display_name": "Python 3",
   "name": "python3"
  },
  "language_info": {
   "name": "python"
  },
  "widgets": {
   "application/vnd.jupyter.widget-state+json": {
    "29e2e4dc381a489cb42b67e434c2e3e1": {
     "model_module": "@jupyter-widgets/controls",
     "model_module_version": "1.5.0",
     "model_name": "DescriptionStyleModel",
     "state": {
      "_model_module": "@jupyter-widgets/controls",
      "_model_module_version": "1.5.0",
      "_model_name": "DescriptionStyleModel",
      "_view_count": null,
      "_view_module": "@jupyter-widgets/base",
      "_view_module_version": "1.2.0",
      "_view_name": "StyleView",
      "description_width": ""
     }
    },
    "52e26a053680428cabdc3917811e802f": {
     "model_module": "@jupyter-widgets/base",
     "model_module_version": "1.2.0",
     "model_name": "LayoutModel",
     "state": {
      "_model_module": "@jupyter-widgets/base",
      "_model_module_version": "1.2.0",
      "_model_name": "LayoutModel",
      "_view_count": null,
      "_view_module": "@jupyter-widgets/base",
      "_view_module_version": "1.2.0",
      "_view_name": "LayoutView",
      "align_content": null,
      "align_items": null,
      "align_self": null,
      "border": null,
      "bottom": null,
      "display": null,
      "flex": null,
      "flex_flow": null,
      "grid_area": null,
      "grid_auto_columns": null,
      "grid_auto_flow": null,
      "grid_auto_rows": null,
      "grid_column": null,
      "grid_gap": null,
      "grid_row": null,
      "grid_template_areas": null,
      "grid_template_columns": null,
      "grid_template_rows": null,
      "height": null,
      "justify_content": null,
      "justify_items": null,
      "left": null,
      "margin": null,
      "max_height": null,
      "max_width": null,
      "min_height": null,
      "min_width": null,
      "object_fit": null,
      "object_position": null,
      "order": null,
      "overflow": null,
      "overflow_x": null,
      "overflow_y": null,
      "padding": null,
      "right": null,
      "top": null,
      "visibility": null,
      "width": null
     }
    },
    "554c85a60d5046ef9221dda4e0823d4f": {
     "model_module": "@jupyter-widgets/controls",
     "model_module_version": "1.5.0",
     "model_name": "HTMLModel",
     "state": {
      "_dom_classes": [],
      "_model_module": "@jupyter-widgets/controls",
      "_model_module_version": "1.5.0",
      "_model_name": "HTMLModel",
      "_view_count": null,
      "_view_module": "@jupyter-widgets/controls",
      "_view_module_version": "1.5.0",
      "_view_name": "HTMLView",
      "description": "",
      "description_tooltip": null,
      "layout": "IPY_MODEL_52e26a053680428cabdc3917811e802f",
      "placeholder": "​",
      "style": "IPY_MODEL_29e2e4dc381a489cb42b67e434c2e3e1",
      "value": "100%"
     }
    },
    "849a0359fe064a628aa7da8b6bd0be5f": {
     "model_module": "@jupyter-widgets/controls",
     "model_module_version": "1.5.0",
     "model_name": "DescriptionStyleModel",
     "state": {
      "_model_module": "@jupyter-widgets/controls",
      "_model_module_version": "1.5.0",
      "_model_name": "DescriptionStyleModel",
      "_view_count": null,
      "_view_module": "@jupyter-widgets/base",
      "_view_module_version": "1.2.0",
      "_view_name": "StyleView",
      "description_width": ""
     }
    },
    "8f882b5a4a9a46b08dd01cbbdb27c9f1": {
     "model_module": "@jupyter-widgets/base",
     "model_module_version": "1.2.0",
     "model_name": "LayoutModel",
     "state": {
      "_model_module": "@jupyter-widgets/base",
      "_model_module_version": "1.2.0",
      "_model_name": "LayoutModel",
      "_view_count": null,
      "_view_module": "@jupyter-widgets/base",
      "_view_module_version": "1.2.0",
      "_view_name": "LayoutView",
      "align_content": null,
      "align_items": null,
      "align_self": null,
      "border": null,
      "bottom": null,
      "display": null,
      "flex": null,
      "flex_flow": null,
      "grid_area": null,
      "grid_auto_columns": null,
      "grid_auto_flow": null,
      "grid_auto_rows": null,
      "grid_column": null,
      "grid_gap": null,
      "grid_row": null,
      "grid_template_areas": null,
      "grid_template_columns": null,
      "grid_template_rows": null,
      "height": null,
      "justify_content": null,
      "justify_items": null,
      "left": null,
      "margin": null,
      "max_height": null,
      "max_width": null,
      "min_height": null,
      "min_width": null,
      "object_fit": null,
      "object_position": null,
      "order": null,
      "overflow": null,
      "overflow_x": null,
      "overflow_y": null,
      "padding": null,
      "right": null,
      "top": null,
      "visibility": null,
      "width": null
     }
    },
    "9e88d20043914ebf8addcfcc4d7d92d7": {
     "model_module": "@jupyter-widgets/controls",
     "model_module_version": "1.5.0",
     "model_name": "HTMLModel",
     "state": {
      "_dom_classes": [],
      "_model_module": "@jupyter-widgets/controls",
      "_model_module_version": "1.5.0",
      "_model_name": "HTMLModel",
      "_view_count": null,
      "_view_module": "@jupyter-widgets/controls",
      "_view_module_version": "1.5.0",
      "_view_name": "HTMLView",
      "description": "",
      "description_tooltip": null,
      "layout": "IPY_MODEL_8f882b5a4a9a46b08dd01cbbdb27c9f1",
      "placeholder": "​",
      "style": "IPY_MODEL_849a0359fe064a628aa7da8b6bd0be5f",
      "value": " 635628/635628 [00:27&lt;00:00, 42935.98it/s]"
     }
    },
    "a6d866f6abf541199fbf9c8fb73c5d8b": {
     "model_module": "@jupyter-widgets/controls",
     "model_module_version": "1.5.0",
     "model_name": "HBoxModel",
     "state": {
      "_dom_classes": [],
      "_model_module": "@jupyter-widgets/controls",
      "_model_module_version": "1.5.0",
      "_model_name": "HBoxModel",
      "_view_count": null,
      "_view_module": "@jupyter-widgets/controls",
      "_view_module_version": "1.5.0",
      "_view_name": "HBoxView",
      "box_style": "",
      "children": [
       "IPY_MODEL_554c85a60d5046ef9221dda4e0823d4f",
       "IPY_MODEL_fc82c9e82bf54ad4a54cbe37fd7fabfb",
       "IPY_MODEL_9e88d20043914ebf8addcfcc4d7d92d7"
      ],
      "layout": "IPY_MODEL_fc0fdae50f68495db2c9a89cb0637034"
     }
    },
    "acb6af1cae1f4a2a97f175bced4ec692": {
     "model_module": "@jupyter-widgets/base",
     "model_module_version": "1.2.0",
     "model_name": "LayoutModel",
     "state": {
      "_model_module": "@jupyter-widgets/base",
      "_model_module_version": "1.2.0",
      "_model_name": "LayoutModel",
      "_view_count": null,
      "_view_module": "@jupyter-widgets/base",
      "_view_module_version": "1.2.0",
      "_view_name": "LayoutView",
      "align_content": null,
      "align_items": null,
      "align_self": null,
      "border": null,
      "bottom": null,
      "display": null,
      "flex": null,
      "flex_flow": null,
      "grid_area": null,
      "grid_auto_columns": null,
      "grid_auto_flow": null,
      "grid_auto_rows": null,
      "grid_column": null,
      "grid_gap": null,
      "grid_row": null,
      "grid_template_areas": null,
      "grid_template_columns": null,
      "grid_template_rows": null,
      "height": null,
      "justify_content": null,
      "justify_items": null,
      "left": null,
      "margin": null,
      "max_height": null,
      "max_width": null,
      "min_height": null,
      "min_width": null,
      "object_fit": null,
      "object_position": null,
      "order": null,
      "overflow": null,
      "overflow_x": null,
      "overflow_y": null,
      "padding": null,
      "right": null,
      "top": null,
      "visibility": null,
      "width": null
     }
    },
    "ad4cb1889eb048788e3e0a16c3434287": {
     "model_module": "@jupyter-widgets/controls",
     "model_module_version": "1.5.0",
     "model_name": "ProgressStyleModel",
     "state": {
      "_model_module": "@jupyter-widgets/controls",
      "_model_module_version": "1.5.0",
      "_model_name": "ProgressStyleModel",
      "_view_count": null,
      "_view_module": "@jupyter-widgets/base",
      "_view_module_version": "1.2.0",
      "_view_name": "StyleView",
      "bar_color": null,
      "description_width": ""
     }
    },
    "fc0fdae50f68495db2c9a89cb0637034": {
     "model_module": "@jupyter-widgets/base",
     "model_module_version": "1.2.0",
     "model_name": "LayoutModel",
     "state": {
      "_model_module": "@jupyter-widgets/base",
      "_model_module_version": "1.2.0",
      "_model_name": "LayoutModel",
      "_view_count": null,
      "_view_module": "@jupyter-widgets/base",
      "_view_module_version": "1.2.0",
      "_view_name": "LayoutView",
      "align_content": null,
      "align_items": null,
      "align_self": null,
      "border": null,
      "bottom": null,
      "display": null,
      "flex": null,
      "flex_flow": null,
      "grid_area": null,
      "grid_auto_columns": null,
      "grid_auto_flow": null,
      "grid_auto_rows": null,
      "grid_column": null,
      "grid_gap": null,
      "grid_row": null,
      "grid_template_areas": null,
      "grid_template_columns": null,
      "grid_template_rows": null,
      "height": null,
      "justify_content": null,
      "justify_items": null,
      "left": null,
      "margin": null,
      "max_height": null,
      "max_width": null,
      "min_height": null,
      "min_width": null,
      "object_fit": null,
      "object_position": null,
      "order": null,
      "overflow": null,
      "overflow_x": null,
      "overflow_y": null,
      "padding": null,
      "right": null,
      "top": null,
      "visibility": null,
      "width": null
     }
    },
    "fc82c9e82bf54ad4a54cbe37fd7fabfb": {
     "model_module": "@jupyter-widgets/controls",
     "model_module_version": "1.5.0",
     "model_name": "FloatProgressModel",
     "state": {
      "_dom_classes": [],
      "_model_module": "@jupyter-widgets/controls",
      "_model_module_version": "1.5.0",
      "_model_name": "FloatProgressModel",
      "_view_count": null,
      "_view_module": "@jupyter-widgets/controls",
      "_view_module_version": "1.5.0",
      "_view_name": "ProgressView",
      "bar_style": "success",
      "description": "",
      "description_tooltip": null,
      "layout": "IPY_MODEL_acb6af1cae1f4a2a97f175bced4ec692",
      "max": 635628,
      "min": 0,
      "orientation": "horizontal",
      "style": "IPY_MODEL_ad4cb1889eb048788e3e0a16c3434287",
      "value": 635628
     }
    }
   }
  }
 },
 "nbformat": 4,
 "nbformat_minor": 0
}
